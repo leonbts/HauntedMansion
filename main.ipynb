{
 "cells": [
  {
   "cell_type": "code",
   "execution_count": 116,
   "metadata": {},
   "outputs": [],
   "source": [
    "# creating the classes\n",
    "\n",
    "class HauntedMansion:\n",
    "    def __init__(self):\n",
    "        self.rooms = {}\n",
    "        self.doors = []\n",
    "\n",
    "    def add_room(self, room):\n",
    "        self.rooms[room.name] = room\n",
    "\n",
    "    def add_door(self, room1_name, room2_name, key_required=None):\n",
    "        if room1_name in self.rooms and room2_name in self.rooms:\n",
    "            room1 = self.rooms[room1_name]\n",
    "            room2 = self.rooms[room2_name]\n",
    "            door = Door(room1, room2, key_required)\n",
    "            room1.add_door(door)\n",
    "            room2.add_door(door)\n",
    "            self.doors.append(door)\n",
    "        else:\n",
    "            print(\"One or both rooms not found in the house!\")\n",
    "\n",
    "class Room:\n",
    "    def __init__(self, name, description):\n",
    "        self.name = name\n",
    "        self.description = description\n",
    "        self.objects = {}\n",
    "        self.doors = []\n",
    "\n",
    "    def add_door(self, door):\n",
    "        if door not in self.doors:\n",
    "            self.doors.append(door)\n",
    "\n",
    "    def add_object(self, obj):\n",
    "        self.objects[obj.name] = obj\n",
    "\n",
    "    def search(self):\n",
    "        if self.objects:\n",
    "            print(\"You found:\")\n",
    "            for obj in self.objects.values():\n",
    "                print(f\"- {obj.name}: {obj.description}\")\n",
    "        else:\n",
    "            print(\"There's nothing interesting here.\")\n",
    "        # if self.doors:\n",
    "        #     print(\"There are also:\")\n",
    "        #     for door in self.doors.values():\n",
    "        #         print(f\"- {door.name}: {door.description}\")\n",
    "        # else:\n",
    "        #     print(\"There are no doors here.\")\n",
    "\n",
    "class Object:\n",
    "    def __init__(self, name, description, item=None):\n",
    "        self.name = name\n",
    "        self.description = description\n",
    "        self.item = item\n",
    "\n",
    "    def interact(self, player):\n",
    "        if self.item:\n",
    "            print(f\"You found a {self.item} inside the {self.name}!\")\n",
    "            player.inventory.append(self.item)\n",
    "            self.item = None  # The item is taken\n",
    "        else:\n",
    "            print(f\"The {self.name} is empty.\")\n",
    "\n",
    "class Item:\n",
    "    def __init__(self, name, description):\n",
    "        self.name = name\n",
    "        self.description = description\n",
    "\n",
    "class Door:\n",
    "    def __init__(self, room1, room2, key_required):\n",
    "        self.room1 = room1\n",
    "        self.room2 = room2\n",
    "        self.key_required = key_required\n",
    "\n",
    "    def get_other_room(self, current_room):\n",
    "        return self.room2 if current_room == self.room1 else self.room1\n",
    "\n",
    "class Player:\n",
    "    def __init__(self):\n",
    "        self.current_room = None\n",
    "        self.inventory = []\n",
    "\n",
    "    def move(self, new_room):\n",
    "        for door in self.current_room.doors:\n",
    "            if new_room == door.get_other_room(self.current_room):\n",
    "                if door.key_required and door.key_required not in self.inventory:\n",
    "                    print(f\"You need a {door.key_required} to go there.\")\n",
    "                    return\n",
    "                self.current_room = new_room\n",
    "                print(f\"You moved to {new_room.name}. {new_room.description}\")\n",
    "                return\n",
    "        print(\"There's no door leading there.\")\n",
    "    \n",
    "    def search_room(self):\n",
    "        self.current_room.search()\n",
    "\n",
    "    def interact_with(self, object_name):\n",
    "        if object_name in self.current_room.objects:\n",
    "            obj = self.current_room.objects[object_name]\n",
    "            obj.interact(self)\n",
    "        else:\n",
    "            print(f\"There's no {object_name} here.\")"
   ]
  },
  {
   "cell_type": "code",
   "execution_count": 117,
   "metadata": {},
   "outputs": [],
   "source": [
    "# creating & setting the game\n",
    "\n",
    "# Create a house\n",
    "house = HauntedMansion()\n",
    "\n",
    "# Create rooms\n",
    "kitchen = Room(\"Kitchen\", \"A warm kitchen with a smell of fresh bread.\")\n",
    "hallway = Room(\"Hallway\", \"An empty hallway.\")\n",
    "bedroom = Room(\"Bedroom\", \"A peaceful bedroom with a soft bed.\")\n",
    "dining_room = Room(\"Dining Room\", \"A nice room to have a meal.\")\n",
    "outside = Room(\"Outside\", \"A breeze of fresh air and singing birds. Congratulations, you've made it to the outside and won the game!\")\n",
    "\n",
    "# Add rooms to the house\n",
    "house.add_room(kitchen)\n",
    "house.add_room(hallway)\n",
    "house.add_room(bedroom)\n",
    "house.add_room(dining_room)\n",
    "house.add_room(outside)\n",
    "\n",
    "# Connect rooms with doors\n",
    "house.add_door(\"Kitchen\", \"Dining Room\", key_required=\"silver key\")\n",
    "house.add_door(\"Dining Room\", \"Hallway\")  # No key required for this door\n",
    "house.add_door(\"Hallway\", \"Bedroom\", key_required=\"gold key\")\n",
    "house.add_door(\"Hallway\", \"Outside\", key_required=\"master key\")\n",
    "\n",
    "# Create a player and set their starting room\n",
    "player = Player()\n",
    "player.current_room = dining_room\n",
    "\n",
    "# Create a drawer that contains a key\n",
    "chest = Object(\"Chest\", \"A mysterious chest.\", item=\"gold key\")\n",
    "drawer = Object(\"Drawer\", \"An old wooden drawer.\", item=\"silver key\")\n",
    "bed = Object(\"Bed\", \"A large bed.\", item=\"master key\")\n",
    "\n",
    "# Add the drawer to the kitchen\n",
    "dining_room.add_object(drawer)\n",
    "kitchen.add_object(chest)\n",
    "bedroom.add_object(bed)"
   ]
  },
  {
   "cell_type": "code",
   "execution_count": 118,
   "metadata": {},
   "outputs": [
    {
     "name": "stdout",
     "output_type": "stream",
     "text": [
      "You are in the Dining Room.\n"
     ]
    }
   ],
   "source": [
    "print(f\"You are in the {player.current_room.name}.\")"
   ]
  },
  {
   "cell_type": "code",
   "execution_count": 119,
   "metadata": {},
   "outputs": [
    {
     "name": "stdout",
     "output_type": "stream",
     "text": [
      "You moved to Hallway. An empty hallway.\n"
     ]
    }
   ],
   "source": [
    "player.move(hallway)"
   ]
  },
  {
   "cell_type": "code",
   "execution_count": 120,
   "metadata": {},
   "outputs": [
    {
     "name": "stdout",
     "output_type": "stream",
     "text": [
      "There's nothing interesting here.\n"
     ]
    }
   ],
   "source": [
    "player.search_room()"
   ]
  },
  {
   "cell_type": "code",
   "execution_count": 121,
   "metadata": {},
   "outputs": [
    {
     "name": "stdout",
     "output_type": "stream",
     "text": [
      "You need a gold key to go there.\n"
     ]
    }
   ],
   "source": [
    "player.move(bedroom)"
   ]
  },
  {
   "cell_type": "code",
   "execution_count": 122,
   "metadata": {},
   "outputs": [
    {
     "name": "stdout",
     "output_type": "stream",
     "text": [
      "You need a master key to go there.\n"
     ]
    }
   ],
   "source": [
    "player.move(outside)"
   ]
  },
  {
   "cell_type": "code",
   "execution_count": 123,
   "metadata": {},
   "outputs": [
    {
     "name": "stdout",
     "output_type": "stream",
     "text": [
      "You moved to Dining Room. A nice room to have a meal.\n"
     ]
    }
   ],
   "source": [
    "player.move(dining_room)"
   ]
  },
  {
   "cell_type": "code",
   "execution_count": 124,
   "metadata": {},
   "outputs": [
    {
     "name": "stdout",
     "output_type": "stream",
     "text": [
      "You need a silver key to go there.\n"
     ]
    }
   ],
   "source": [
    "player.move(kitchen)"
   ]
  },
  {
   "cell_type": "code",
   "execution_count": 125,
   "metadata": {},
   "outputs": [
    {
     "name": "stdout",
     "output_type": "stream",
     "text": [
      "You found:\n",
      "- Drawer: An old wooden drawer.\n"
     ]
    }
   ],
   "source": [
    "player.search_room()"
   ]
  },
  {
   "cell_type": "code",
   "execution_count": 126,
   "metadata": {},
   "outputs": [
    {
     "name": "stdout",
     "output_type": "stream",
     "text": [
      "You found a silver key inside the Drawer!\n"
     ]
    }
   ],
   "source": [
    "player.interact_with(\"Drawer\")"
   ]
  },
  {
   "cell_type": "code",
   "execution_count": 127,
   "metadata": {},
   "outputs": [
    {
     "name": "stdout",
     "output_type": "stream",
     "text": [
      "You moved to Kitchen. A warm kitchen with a smell of fresh bread.\n"
     ]
    }
   ],
   "source": [
    "player.move(kitchen)"
   ]
  },
  {
   "cell_type": "code",
   "execution_count": 128,
   "metadata": {},
   "outputs": [
    {
     "name": "stdout",
     "output_type": "stream",
     "text": [
      "You found:\n",
      "- Chest: A mysterious chest.\n"
     ]
    }
   ],
   "source": [
    "player.search_room()"
   ]
  },
  {
   "cell_type": "code",
   "execution_count": 129,
   "metadata": {},
   "outputs": [
    {
     "name": "stdout",
     "output_type": "stream",
     "text": [
      "You found a gold key inside the Chest!\n"
     ]
    }
   ],
   "source": [
    "player.interact_with(\"Chest\")"
   ]
  },
  {
   "cell_type": "code",
   "execution_count": 130,
   "metadata": {},
   "outputs": [
    {
     "name": "stdout",
     "output_type": "stream",
     "text": [
      "You moved to Dining Room. A nice room to have a meal.\n"
     ]
    }
   ],
   "source": [
    "player.move(dining_room)"
   ]
  },
  {
   "cell_type": "code",
   "execution_count": 131,
   "metadata": {},
   "outputs": [
    {
     "name": "stdout",
     "output_type": "stream",
     "text": [
      "You moved to Hallway. An empty hallway.\n"
     ]
    }
   ],
   "source": [
    "player.move(hallway)"
   ]
  },
  {
   "cell_type": "code",
   "execution_count": 132,
   "metadata": {},
   "outputs": [
    {
     "name": "stdout",
     "output_type": "stream",
     "text": [
      "You moved to Bedroom. A peaceful bedroom with a soft bed.\n"
     ]
    }
   ],
   "source": [
    "player.move(bedroom)"
   ]
  },
  {
   "cell_type": "code",
   "execution_count": 133,
   "metadata": {},
   "outputs": [
    {
     "name": "stdout",
     "output_type": "stream",
     "text": [
      "You found:\n",
      "- Bed: A large bed.\n"
     ]
    }
   ],
   "source": [
    "player.search_room()"
   ]
  },
  {
   "cell_type": "code",
   "execution_count": 134,
   "metadata": {},
   "outputs": [
    {
     "name": "stdout",
     "output_type": "stream",
     "text": [
      "You found a master key inside the Bed!\n"
     ]
    }
   ],
   "source": [
    "player.interact_with(\"Bed\")"
   ]
  },
  {
   "cell_type": "code",
   "execution_count": 135,
   "metadata": {},
   "outputs": [
    {
     "name": "stdout",
     "output_type": "stream",
     "text": [
      "You moved to Hallway. An empty hallway.\n"
     ]
    }
   ],
   "source": [
    "player.move(hallway)"
   ]
  },
  {
   "cell_type": "code",
   "execution_count": 136,
   "metadata": {},
   "outputs": [
    {
     "name": "stdout",
     "output_type": "stream",
     "text": [
      "You moved to Outside. A breeze of fresh air and singing birds. Congratulations, you've made it to the outside and won the game!\n"
     ]
    }
   ],
   "source": [
    "player.move(outside)"
   ]
  },
  {
   "cell_type": "code",
   "execution_count": null,
   "metadata": {},
   "outputs": [],
   "source": []
  }
 ],
 "metadata": {
  "kernelspec": {
   "display_name": ".VENV",
   "language": "python",
   "name": "python3"
  },
  "language_info": {
   "codemirror_mode": {
    "name": "ipython",
    "version": 3
   },
   "file_extension": ".py",
   "mimetype": "text/x-python",
   "name": "python",
   "nbconvert_exporter": "python",
   "pygments_lexer": "ipython3",
   "version": "3.12.2"
  }
 },
 "nbformat": 4,
 "nbformat_minor": 2
}
