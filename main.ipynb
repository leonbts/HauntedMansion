{
 "cells": [
  {
   "cell_type": "code",
   "execution_count": 5,
   "metadata": {},
   "outputs": [],
   "source": [
    "# creating the classes\n",
    "\n",
    "class HauntedMansion:\n",
    "    def __init__(self):\n",
    "        self.rooms = {}\n",
    "        self.doors = []\n",
    "\n",
    "    def add_room(self, room):\n",
    "        self.rooms[room.name] = room\n",
    "\n",
    "    def add_door(self, room1_name, room2_name, key_required=None):\n",
    "        if room1_name in self.rooms and room2_name in self.rooms:\n",
    "            room1 = self.rooms[room1_name]\n",
    "            room2 = self.rooms[room2_name]\n",
    "            door = Door(room1, room2, key_required)\n",
    "            room1.add_door(door)\n",
    "            room2.add_door(door)\n",
    "            self.doors.append(door)\n",
    "        else:\n",
    "            print(\"One or both rooms not found in the house!\")\n",
    "\n",
    "class Room:\n",
    "    def __init__(self, name, description):\n",
    "        self.name = name\n",
    "        self.description = description\n",
    "        self.objects = {}\n",
    "        self.doors = []\n",
    "\n",
    "    def add_door(self, door):\n",
    "        if door not in self.doors:\n",
    "            self.doors.append(door)\n",
    "\n",
    "    def add_object(self, obj):\n",
    "        self.objects[obj.name] = obj\n",
    "\n",
    "    def search(self):\n",
    "        if self.objects:\n",
    "            print(\"You found:\")\n",
    "            for obj in self.objects.values():\n",
    "                print(f\"- {obj.name}: {obj.description}\")\n",
    "        else:\n",
    "            print(\"There's nothing interesting here.\")\n",
    "\n",
    "class Object:\n",
    "    def __init__(self, name, description, item=None):\n",
    "        self.name = name\n",
    "        self.description = description\n",
    "        self.item = item\n",
    "\n",
    "    def interact(self, player):\n",
    "        if self.item:\n",
    "            print(f\"You found a {self.item} inside the {self.name}!\")\n",
    "            player.inventory.append(self.item)\n",
    "            self.item = None  # The item is taken\n",
    "        else:\n",
    "            print(f\"The {self.name} is empty.\")\n",
    "\n",
    "class Item:\n",
    "    def __init__(self, name, description):\n",
    "        self.name = name\n",
    "        self.description = description\n",
    "\n",
    "class Door:\n",
    "    def __init__(self, room1, room2, key_required):\n",
    "        self.room1 = room1\n",
    "        self.room2 = room2\n",
    "        self.key_required = key_required\n",
    "\n",
    "    def get_other_room(self, current_room):\n",
    "        return self.room2 if current_room == self.room1 else self.room1\n",
    "\n",
    "class Player:\n",
    "    def __init__(self):\n",
    "        self.current_room = None\n",
    "        self.inventory = []\n",
    "\n",
    "    def move(self, new_room):\n",
    "        for door in self.current_room.doors:\n",
    "            if new_room == door.get_other_room(self.current_room):\n",
    "                if door.key_required and door.key_required not in self.inventory:\n",
    "                    print(f\"You need a {door.key_required} to go there.\")\n",
    "                    return\n",
    "                self.current_room = new_room\n",
    "                print(f\"You moved to {new_room.name}.\")\n",
    "                return\n",
    "        print(\"There's no door leading there.\")\n",
    "    \n",
    "    def search_room(self):\n",
    "        self.current_room.search()\n",
    "\n",
    "    def interact_with(self, object_name):\n",
    "        if object_name in self.current_room.objects:\n",
    "            obj = self.current_room.objects[object_name]\n",
    "            obj.interact(self)\n",
    "        else:\n",
    "            print(f\"There's no {object_name} here.\")"
   ]
  },
  {
   "cell_type": "code",
   "execution_count": 24,
   "metadata": {},
   "outputs": [],
   "source": [
    "# creating & setting the game\n",
    "\n",
    "# Create a house\n",
    "house = HauntedMansion()\n",
    "\n",
    "# Create rooms\n",
    "kitchen = Room(\"Kitchen\", \"A warm kitchen with a smell of fresh bread.\")\n",
    "living_room = Room(\"Living Room\", \"A cozy living room with a fireplace.\")\n",
    "bedroom = Room(\"Bedroom\", \"A peaceful bedroom with a soft bed.\")\n",
    "dining_room = Room(\"Dining Room\", \"A nice room to have a meal.\")\n",
    "\n",
    "# Add rooms to the house\n",
    "house.add_room(kitchen)\n",
    "house.add_room(living_room)\n",
    "house.add_room(bedroom)\n",
    "house.add_room(dining_room)\n",
    "\n",
    "# Connect rooms with doors\n",
    "house.add_door(\"Kitchen\", \"Living Room\", key_required=\"silver key\")\n",
    "house.add_door(\"Living Room\", \"Bedroom\")  # No key required for this door\n",
    "house.add_door(\"Kitchen\", \"Dining Room\", key_required=\"gold key\")\n",
    "\n",
    "# Create a player and set their starting room\n",
    "player = Player()\n",
    "player.current_room = kitchen\n",
    "\n",
    "# Create a drawer that contains a key\n",
    "chest = Object(\"Chest\", \"A mysterious chest.\", item=\"gold key\")\n",
    "drawer = Object(\"Drawer\", \"An old wooden drawer.\", item=\"silver key\")\n",
    "\n",
    "# Add the drawer to the kitchen\n",
    "kitchen.add_object(drawer)\n",
    "kitchen.add_object(chest)"
   ]
  },
  {
   "cell_type": "code",
   "execution_count": 25,
   "metadata": {},
   "outputs": [
    {
     "name": "stdout",
     "output_type": "stream",
     "text": [
      "You are in the Kitchen.\n"
     ]
    }
   ],
   "source": [
    "print(f\"You are in the {player.current_room.name}.\")"
   ]
  },
  {
   "cell_type": "code",
   "execution_count": 26,
   "metadata": {},
   "outputs": [
    {
     "name": "stdout",
     "output_type": "stream",
     "text": [
      "You need a silver key to go there.\n"
     ]
    }
   ],
   "source": [
    "player.move(living_room)"
   ]
  },
  {
   "cell_type": "code",
   "execution_count": 27,
   "metadata": {},
   "outputs": [
    {
     "name": "stdout",
     "output_type": "stream",
     "text": [
      "You found:\n",
      "- Drawer: An old wooden drawer.\n",
      "- Chest: A mysterious chest.\n"
     ]
    }
   ],
   "source": [
    "player.search_room()"
   ]
  },
  {
   "cell_type": "code",
   "execution_count": 28,
   "metadata": {},
   "outputs": [
    {
     "name": "stdout",
     "output_type": "stream",
     "text": [
      "You found a silver key inside the Drawer!\n"
     ]
    }
   ],
   "source": [
    "player.interact_with(\"Drawer\")"
   ]
  },
  {
   "cell_type": "code",
   "execution_count": 29,
   "metadata": {},
   "outputs": [
    {
     "name": "stdout",
     "output_type": "stream",
     "text": [
      "You moved to Living Room.\n"
     ]
    }
   ],
   "source": [
    "player.move(living_room)"
   ]
  },
  {
   "cell_type": "code",
   "execution_count": 30,
   "metadata": {},
   "outputs": [
    {
     "name": "stdout",
     "output_type": "stream",
     "text": [
      "You moved to Bedroom.\n"
     ]
    }
   ],
   "source": [
    "player.move(bedroom)"
   ]
  },
  {
   "cell_type": "code",
   "execution_count": 32,
   "metadata": {},
   "outputs": [
    {
     "name": "stdout",
     "output_type": "stream",
     "text": [
      "There's nothing interesting here.\n"
     ]
    }
   ],
   "source": [
    "player.search_room()"
   ]
  },
  {
   "cell_type": "code",
   "execution_count": 33,
   "metadata": {},
   "outputs": [
    {
     "name": "stdout",
     "output_type": "stream",
     "text": [
      "There's no door leading there.\n"
     ]
    }
   ],
   "source": [
    "player.move(dining_room)"
   ]
  },
  {
   "cell_type": "code",
   "execution_count": 34,
   "metadata": {},
   "outputs": [
    {
     "name": "stdout",
     "output_type": "stream",
     "text": [
      "You moved to Living Room.\n"
     ]
    }
   ],
   "source": [
    "player.move(living_room)"
   ]
  },
  {
   "cell_type": "code",
   "execution_count": 35,
   "metadata": {},
   "outputs": [
    {
     "name": "stdout",
     "output_type": "stream",
     "text": [
      "You moved to Kitchen.\n"
     ]
    }
   ],
   "source": [
    "player.move(kitchen)"
   ]
  },
  {
   "cell_type": "code",
   "execution_count": 36,
   "metadata": {},
   "outputs": [
    {
     "name": "stdout",
     "output_type": "stream",
     "text": [
      "You need a gold key to go there.\n"
     ]
    }
   ],
   "source": [
    "player.move(dining_room)"
   ]
  },
  {
   "cell_type": "code",
   "execution_count": 37,
   "metadata": {},
   "outputs": [
    {
     "name": "stdout",
     "output_type": "stream",
     "text": [
      "You found:\n",
      "- Drawer: An old wooden drawer.\n",
      "- Chest: A mysterious chest.\n"
     ]
    }
   ],
   "source": [
    "player.search_room()"
   ]
  },
  {
   "cell_type": "code",
   "execution_count": 38,
   "metadata": {},
   "outputs": [
    {
     "name": "stdout",
     "output_type": "stream",
     "text": [
      "You found a gold key inside the Chest!\n"
     ]
    }
   ],
   "source": [
    "player.interact_with(\"Chest\")"
   ]
  },
  {
   "cell_type": "code",
   "execution_count": 39,
   "metadata": {},
   "outputs": [
    {
     "name": "stdout",
     "output_type": "stream",
     "text": [
      "You moved to Dining Room.\n"
     ]
    }
   ],
   "source": [
    "player.move(dining_room)"
   ]
  },
  {
   "cell_type": "code",
   "execution_count": 40,
   "metadata": {},
   "outputs": [
    {
     "data": {
      "text/plain": [
       "['silver key', 'gold key']"
      ]
     },
     "execution_count": 40,
     "metadata": {},
     "output_type": "execute_result"
    }
   ],
   "source": [
    "player.inventory"
   ]
  },
  {
   "cell_type": "code",
   "execution_count": null,
   "metadata": {},
   "outputs": [],
   "source": []
  }
 ],
 "metadata": {
  "kernelspec": {
   "display_name": ".VENV",
   "language": "python",
   "name": "python3"
  },
  "language_info": {
   "codemirror_mode": {
    "name": "ipython",
    "version": 3
   },
   "file_extension": ".py",
   "mimetype": "text/x-python",
   "name": "python",
   "nbconvert_exporter": "python",
   "pygments_lexer": "ipython3",
   "version": "3.12.2"
  }
 },
 "nbformat": 4,
 "nbformat_minor": 2
}
