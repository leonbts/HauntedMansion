{
 "cells": [
  {
   "cell_type": "code",
   "execution_count": 1073,
   "metadata": {},
   "outputs": [],
   "source": [
    "# creating the classes\n",
    "\n",
    "class HauntedMansion:\n",
    "    def __init__(self):\n",
    "        self.rooms = {}\n",
    "        self.doors = {}\n",
    "\n",
    "    def add_room(self, room):\n",
    "        self.rooms[room.name] = room\n",
    "\n",
    "    def add_door(self, door):\n",
    "        if door.room1.name in self.rooms and door.room2.name in self.rooms:\n",
    "            self.doors[door.name] = door\n",
    "            door.room1.add_door(door)\n",
    "            door.room2.add_door(door)\n",
    "        \n",
    "\n",
    "class Room:\n",
    "    def __init__(self, name, description):\n",
    "        self.name = name\n",
    "        self.description = description\n",
    "        self.objects = {}\n",
    "        self.doors = []\n",
    "\n",
    "    def add_door(self, door):\n",
    "         if door not in self.doors:\n",
    "             self.doors.append(door)\n",
    "        # self.doors[door.name] = door\n",
    "\n",
    "    def add_object(self, obj):\n",
    "        self.objects[obj.name] = obj\n",
    "\n",
    "    def search(self):\n",
    "        if self.objects:\n",
    "            print(\"You found:\")\n",
    "            for obj in self.objects.values():\n",
    "                print(f\"- {obj.name}: {obj.description}\")\n",
    "        else:\n",
    "            print(\"There's nothing interesting here.\")\n",
    "        if self.doors:\n",
    "             print(\"There are also:\")\n",
    "             for door in self.doors:\n",
    "                other_room = door.get_other_room(self)\n",
    "                print(f\"- {door.name}\")  \n",
    "        else:\n",
    "             print(\"There are no doors here.\")\n",
    "\n",
    "class Object:\n",
    "    def __init__(self, name, description, item=None):\n",
    "        self.name = name\n",
    "        self.description = description\n",
    "        self.item = item\n",
    "\n",
    "    def interact(self, player):\n",
    "        if self.item:\n",
    "            print(f\"You found a {self.item.name} inside the {self.name}!\")\n",
    "            player.inventory.append(self.item)\n",
    "            self.item = None  # The item is taken\n",
    "        else:\n",
    "            print(f\"The {self.name} is empty.\")\n",
    "\n",
    "class Chest(Object):\n",
    "    def __init__(self, name, description, item = None, is_locked=True, correct_pin = None):\n",
    "        super().__init__(name, description, item)\n",
    "        self.is_locked = is_locked\n",
    "        self.correct_pin = correct_pin \n",
    "    \n",
    "    def interact(self, player):\n",
    "        if self.is_locked:\n",
    "            print(f\"The {self.name} is locked, try to open it.! Pin-code is {self.correct_pin}\")\n",
    "            while True:\n",
    "                pin = input()\n",
    "                if pin.lower() == \"cancel\":\n",
    "                    print(\"You decided not to try the PIN code.\")\n",
    "                    return  \n",
    "                try:\n",
    "                    if len(pin) != 4 or not pin.isdigit():  # check length and if cod contains digits\n",
    "                        raise ValueError\n",
    "                    if int(pin) == self.correct_pin:  # check if the pin is correct\n",
    "                        self.is_locked = False\n",
    "                        print(f\"You unlocked the {self.name}!\")\n",
    "                        super().interact(player)  # open the chest \n",
    "                        return  \n",
    "                    else:\n",
    "                        print(\"Incorrect PIN. Try again or type 'cancel':\")\n",
    "                except ValueError:\n",
    "                    print(\"Invalid input. Please enter a 4-digit PIN or type 'cancel':\")\n",
    "\n",
    "        else: \n",
    "            print(\"It looks like someone already opened it. There's nothing interesting here.\")\n",
    "    \n",
    "\n",
    "class Item:\n",
    "    def __init__(self, name, description):\n",
    "        self.name = name\n",
    "        self.description = description\n",
    "\n",
    "class Door:\n",
    "    def __init__(self, name, room1, room2, key_required = None):\n",
    "        self.name = name\n",
    "        self.room1 = room1\n",
    "        self.room2 = room2\n",
    "        self.key_required = key_required\n",
    "\n",
    "    def get_other_room(self, current_room):\n",
    "        return self.room2 if current_room == self.room1 else self.room1\n",
    "\n",
    "class Player:\n",
    "    def __init__(self):\n",
    "        self.current_room = None\n",
    "        self.inventory = []\n",
    "\n",
    "\n",
    "    def move(self, door):\n",
    "        if door.key_required and door.key_required not in self.inventory:\n",
    "            print(f\"You need a {door.key_required.name} to go there.\")\n",
    "            return\n",
    "        else:\n",
    "            new_room = door.get_other_room(self.current_room)\n",
    "            self.current_room = new_room\n",
    "            print(f\"you moved to {self.current_room.name}. {self.current_room.description}\")\n",
    "            return\n",
    "                 \n",
    "\n",
    "    \n",
    "    def search_room(self):\n",
    "        self.current_room.search()\n",
    "\n",
    "    def interact_with(self, object_name):\n",
    "        if object_name in self.current_room.objects:\n",
    "            obj = self.current_room.objects[object_name]\n",
    "            obj.interact(self)\n",
    "        else:\n",
    "            print(f\"There's no {object_name} here.\")"
   ]
  },
  {
   "cell_type": "code",
   "execution_count": 1074,
   "metadata": {},
   "outputs": [],
   "source": [
    "# creating & setting the game\n",
    "\n",
    "# Create a house\n",
    "house = HauntedMansion()\n",
    "\n",
    "# Create rooms\n",
    "kitchen = Room(\"Kitchen\", \"A warm kitchen with a smell of fresh bread.\")\n",
    "hallway = Room(\"Hallway\", \"An empty hallway.\")\n",
    "bedroom = Room(\"Bedroom\", \"A peaceful bedroom with a soft bed.\")\n",
    "dining_room = Room(\"Dining Room\", \"A nice room to have a meal.\")\n",
    "outside = Room(\"Outside\", \"A breeze of fresh air and singing birds. Congratulations, you've made it to the outside and won the game!\")\n",
    "\n",
    "silver_key = Item(\"Silver key\", \"Opens the door between the dining room and the kitchen\")\n",
    "golden_key = Item(\"Golden key\", \"Opens the door between the hallway and the dining room\")\n",
    "master_key = Item(\"Master key\", \"Opens the big door\")\n",
    "\n",
    "\n",
    "# Add rooms to the house\n",
    "house.add_room(kitchen)\n",
    "house.add_room(hallway)\n",
    "house.add_room(bedroom)\n",
    "house.add_room(dining_room)\n",
    "house.add_room(outside)\n",
    "\n",
    "\n",
    "silver_door = Door(\"Silver door\", dining_room, kitchen, silver_key)\n",
    "white_door = Door(\"White door\", dining_room, hallway)\n",
    "gold_door = Door(\"Gold door\", hallway, bedroom, golden_key)\n",
    "big_door = Door(\"Big door\", hallway, outside, master_key)\n",
    "\n",
    "\n",
    "\n",
    "# Connect rooms with doors\n",
    "house.add_door(silver_door)\n",
    "house.add_door(white_door)\n",
    "house.add_door(gold_door)\n",
    "house.add_door(big_door)\n",
    "\n",
    "\n",
    "\n",
    "# Create a player and set their starting room\n",
    "player = Player()\n",
    "player.current_room = dining_room\n",
    "\n",
    "# Create a drawer that contains a key\n",
    "chest = Chest(\"Chest\", \"A mysterious chest.\", golden_key, correct_pin = 1920)\n",
    "drawer = Object(\"Drawer\", \"An old wooden drawer.\", silver_key)\n",
    "bed = Object(\"Bed\", \"A large bed.\", master_key)\n",
    "\n",
    "# Add the drawer to the kitchen\n",
    "dining_room.add_object(drawer)\n",
    "kitchen.add_object(chest)\n",
    "bedroom.add_object(bed)"
   ]
  },
  {
   "cell_type": "code",
   "execution_count": 1075,
   "metadata": {},
   "outputs": [
    {
     "name": "stdout",
     "output_type": "stream",
     "text": [
      "You are in the Dining Room.\n"
     ]
    }
   ],
   "source": [
    "print(f\"You are in the {player.current_room.name}.\")"
   ]
  },
  {
   "cell_type": "code",
   "execution_count": 1076,
   "metadata": {},
   "outputs": [
    {
     "name": "stdout",
     "output_type": "stream",
     "text": [
      "You found:\n",
      "- Drawer: An old wooden drawer.\n",
      "There are also:\n",
      "- Silver door\n",
      "- White door\n"
     ]
    }
   ],
   "source": [
    "player.search_room()"
   ]
  },
  {
   "cell_type": "code",
   "execution_count": 1077,
   "metadata": {},
   "outputs": [
    {
     "name": "stdout",
     "output_type": "stream",
     "text": [
      "You need a Silver key to go there.\n"
     ]
    }
   ],
   "source": [
    "player.move(silver_door)"
   ]
  },
  {
   "cell_type": "code",
   "execution_count": 1078,
   "metadata": {},
   "outputs": [
    {
     "name": "stdout",
     "output_type": "stream",
     "text": [
      "you moved to Hallway. An empty hallway.\n"
     ]
    }
   ],
   "source": [
    "player.move(white_door)"
   ]
  },
  {
   "cell_type": "code",
   "execution_count": 1079,
   "metadata": {},
   "outputs": [
    {
     "name": "stdout",
     "output_type": "stream",
     "text": [
      "There's nothing interesting here.\n",
      "There are also:\n",
      "- White door\n",
      "- Gold door\n",
      "- Big door\n"
     ]
    }
   ],
   "source": [
    "player.search_room()"
   ]
  },
  {
   "cell_type": "code",
   "execution_count": 1080,
   "metadata": {},
   "outputs": [
    {
     "name": "stdout",
     "output_type": "stream",
     "text": [
      "you moved to Dining Room. A nice room to have a meal.\n"
     ]
    }
   ],
   "source": [
    "player.move(white_door)"
   ]
  },
  {
   "cell_type": "code",
   "execution_count": 1081,
   "metadata": {},
   "outputs": [
    {
     "name": "stdout",
     "output_type": "stream",
     "text": [
      "You found:\n",
      "- Drawer: An old wooden drawer.\n",
      "There are also:\n",
      "- Silver door\n",
      "- White door\n"
     ]
    }
   ],
   "source": [
    "player.search_room()"
   ]
  },
  {
   "cell_type": "code",
   "execution_count": 1082,
   "metadata": {},
   "outputs": [
    {
     "name": "stdout",
     "output_type": "stream",
     "text": [
      "You found a Silver key inside the Drawer!\n"
     ]
    }
   ],
   "source": [
    "player.interact_with(\"Drawer\")"
   ]
  },
  {
   "cell_type": "code",
   "execution_count": 1083,
   "metadata": {},
   "outputs": [
    {
     "name": "stdout",
     "output_type": "stream",
     "text": [
      "you moved to Kitchen. A warm kitchen with a smell of fresh bread.\n"
     ]
    }
   ],
   "source": [
    "player.move(silver_door)"
   ]
  },
  {
   "cell_type": "code",
   "execution_count": 1084,
   "metadata": {},
   "outputs": [
    {
     "name": "stdout",
     "output_type": "stream",
     "text": [
      "You found:\n",
      "- Chest: A mysterious chest.\n",
      "There are also:\n",
      "- Silver door\n"
     ]
    }
   ],
   "source": [
    "player.search_room()"
   ]
  },
  {
   "cell_type": "code",
   "execution_count": 1085,
   "metadata": {},
   "outputs": [
    {
     "name": "stdout",
     "output_type": "stream",
     "text": [
      "The Chest is locked, try to open it.! Pin-code is 1920\n",
      "You decided not to try the PIN code.\n"
     ]
    }
   ],
   "source": [
    "player.interact_with(\"Chest\")"
   ]
  },
  {
   "cell_type": "code",
   "execution_count": 1086,
   "metadata": {},
   "outputs": [
    {
     "name": "stdout",
     "output_type": "stream",
     "text": [
      "you moved to Dining Room. A nice room to have a meal.\n"
     ]
    }
   ],
   "source": [
    "player.move(silver_door)"
   ]
  },
  {
   "cell_type": "code",
   "execution_count": 1087,
   "metadata": {},
   "outputs": [
    {
     "name": "stdout",
     "output_type": "stream",
     "text": [
      "you moved to Hallway. An empty hallway.\n"
     ]
    }
   ],
   "source": [
    "player.move(white_door)"
   ]
  },
  {
   "cell_type": "code",
   "execution_count": 1088,
   "metadata": {},
   "outputs": [
    {
     "name": "stdout",
     "output_type": "stream",
     "text": [
      "There's nothing interesting here.\n",
      "There are also:\n",
      "- White door\n",
      "- Gold door\n",
      "- Big door\n"
     ]
    }
   ],
   "source": [
    "player.search_room()"
   ]
  },
  {
   "cell_type": "code",
   "execution_count": 1089,
   "metadata": {},
   "outputs": [
    {
     "name": "stdout",
     "output_type": "stream",
     "text": [
      "You need a Golden key to go there.\n"
     ]
    }
   ],
   "source": [
    "player.move(gold_door)"
   ]
  },
  {
   "cell_type": "code",
   "execution_count": 1090,
   "metadata": {},
   "outputs": [
    {
     "name": "stdout",
     "output_type": "stream",
     "text": [
      "There's nothing interesting here.\n",
      "There are also:\n",
      "- White door\n",
      "- Gold door\n",
      "- Big door\n"
     ]
    }
   ],
   "source": [
    "player.search_room()"
   ]
  },
  {
   "cell_type": "code",
   "execution_count": 1091,
   "metadata": {},
   "outputs": [
    {
     "name": "stdout",
     "output_type": "stream",
     "text": [
      "There's no Bed here.\n"
     ]
    }
   ],
   "source": [
    "player.interact_with(\"Bed\")"
   ]
  },
  {
   "cell_type": "code",
   "execution_count": 1092,
   "metadata": {},
   "outputs": [
    {
     "name": "stdout",
     "output_type": "stream",
     "text": [
      "You need a Golden key to go there.\n"
     ]
    }
   ],
   "source": [
    "player.move(gold_door)"
   ]
  },
  {
   "cell_type": "code",
   "execution_count": 1093,
   "metadata": {},
   "outputs": [
    {
     "name": "stdout",
     "output_type": "stream",
     "text": [
      "You need a Master key to go there.\n"
     ]
    }
   ],
   "source": [
    "player.move(big_door)"
   ]
  },
  {
   "cell_type": "code",
   "execution_count": null,
   "metadata": {},
   "outputs": [],
   "source": []
  }
 ],
 "metadata": {
  "kernelspec": {
   "display_name": "Python 3",
   "language": "python",
   "name": "python3"
  },
  "language_info": {
   "codemirror_mode": {
    "name": "ipython",
    "version": 3
   },
   "file_extension": ".py",
   "mimetype": "text/x-python",
   "name": "python",
   "nbconvert_exporter": "python",
   "pygments_lexer": "ipython3",
   "version": "3.9.6"
  }
 },
 "nbformat": 4,
 "nbformat_minor": 2
}
